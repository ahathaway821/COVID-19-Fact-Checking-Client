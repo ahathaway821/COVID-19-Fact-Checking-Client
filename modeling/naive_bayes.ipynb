{
  "nbformat": 4,
  "nbformat_minor": 0,
  "metadata": {
    "colab": {
      "name": "naive_bayes.ipynb",
      "provenance": [],
      "authorship_tag": "ABX9TyMaIxFqYd1/J0rUHtT4N5zP",
      "include_colab_link": true
    },
    "kernelspec": {
      "name": "python3",
      "display_name": "Python 3"
    }
  },
  "cells": [
    {
      "cell_type": "markdown",
      "metadata": {
        "id": "view-in-github",
        "colab_type": "text"
      },
      "source": [
        "<a href=\"https://colab.research.google.com/github/ahathaway821/COVID-19-Fact-Checking-Client/blob/master/modeling/naive_bayes.ipynb\" target=\"_parent\"><img src=\"https://colab.research.google.com/assets/colab-badge.svg\" alt=\"Open In Colab\"/></a>"
      ]
    },
    {
      "cell_type": "code",
      "metadata": {
        "id": "2dLAscGFrfvm",
        "colab_type": "code",
        "colab": {}
      },
      "source": [
        ""
      ],
      "execution_count": 0,
      "outputs": []
    },
    {
      "cell_type": "code",
      "metadata": {
        "id": "yj-sLA6MsLF4",
        "colab_type": "code",
        "colab": {}
      },
      "source": [
        "import pandas as pd\n",
        "import matplotlib.pyplot as plt\n",
        "from sklearn.model_selection import train_test_split\n",
        "from sklearn.feature_extraction.text import CountVectorizer\n",
        "from sklearn.feature_extraction.text import TfidfTransformer\n",
        "from sklearn.naive_bayes import MultinomialNB\n",
        "from sklearn.metrics import confusion_matrix\n",
        "from sklearn.metrics import accuracy_score, precision_score, recall_score"
      ],
      "execution_count": 0,
      "outputs": []
    },
    {
      "cell_type": "code",
      "metadata": {
        "id": "j-4rCLNvrsxC",
        "colab_type": "code",
        "colab": {}
      },
      "source": [
        "df = pd.read_csv('/content/COVID-19-Fact-Checking/data/clean/Collated_data.csv')"
      ],
      "execution_count": 0,
      "outputs": []
    },
    {
      "cell_type": "code",
      "metadata": {
        "id": "iid34IHOsO2o",
        "colab_type": "code",
        "colab": {
          "base_uri": "https://localhost:8080/",
          "height": 1000
        },
        "outputId": "58fe3e6f-b619-4377-9fbd-cf20ff0f3b2d"
      },
      "source": [
        "df.head(20)"
      ],
      "execution_count": 5,
      "outputs": [
        {
          "output_type": "execute_result",
          "data": {
            "text/html": [
              "<div>\n",
              "<style scoped>\n",
              "    .dataframe tbody tr th:only-of-type {\n",
              "        vertical-align: middle;\n",
              "    }\n",
              "\n",
              "    .dataframe tbody tr th {\n",
              "        vertical-align: top;\n",
              "    }\n",
              "\n",
              "    .dataframe thead th {\n",
              "        text-align: right;\n",
              "    }\n",
              "</style>\n",
              "<table border=\"1\" class=\"dataframe\">\n",
              "  <thead>\n",
              "    <tr style=\"text-align: right;\">\n",
              "      <th></th>\n",
              "      <th>RecordNumber</th>\n",
              "      <th>claim</th>\n",
              "      <th>label</th>\n",
              "      <th>source_label</th>\n",
              "      <th>source</th>\n",
              "      <th>date</th>\n",
              "      <th>claim_source</th>\n",
              "      <th>explanation</th>\n",
              "      <th>fact_check_url</th>\n",
              "    </tr>\n",
              "  </thead>\n",
              "  <tbody>\n",
              "    <tr>\n",
              "      <th>0</th>\n",
              "      <td>0</td>\n",
              "      <td>In voting by mail, “hundreds of thousands of b...</td>\n",
              "      <td>false</td>\n",
              "      <td>barely-true</td>\n",
              "      <td>Politifact</td>\n",
              "      <td>2020-06-03</td>\n",
              "      <td>J. Christian Adams</td>\n",
              "      <td>NaN</td>\n",
              "      <td>https://politifact.com/factchecks/2020/jun/09/...</td>\n",
              "    </tr>\n",
              "    <tr>\n",
              "      <th>1</th>\n",
              "      <td>1</td>\n",
              "      <td>“Research illustrates a clear correlation betw...</td>\n",
              "      <td>true</td>\n",
              "      <td>true</td>\n",
              "      <td>Politifact</td>\n",
              "      <td>2020-05-21</td>\n",
              "      <td>Glenn Grothman</td>\n",
              "      <td>NaN</td>\n",
              "      <td>https://politifact.com/factchecks/2020/jun/08/...</td>\n",
              "    </tr>\n",
              "    <tr>\n",
              "      <th>2</th>\n",
              "      <td>2</td>\n",
              "      <td>“She’s just casually carrying a body with 1 ha...</td>\n",
              "      <td>false</td>\n",
              "      <td>false</td>\n",
              "      <td>Politifact</td>\n",
              "      <td>2020-06-03</td>\n",
              "      <td>Viral image</td>\n",
              "      <td>NaN</td>\n",
              "      <td>https://politifact.com/factchecks/2020/jun/05/...</td>\n",
              "    </tr>\n",
              "    <tr>\n",
              "      <th>3</th>\n",
              "      <td>3</td>\n",
              "      <td>“You see suicide rates are skyrocketing now…”</td>\n",
              "      <td>false</td>\n",
              "      <td>false</td>\n",
              "      <td>Politifact</td>\n",
              "      <td>2020-05-26</td>\n",
              "      <td>Tim Murtaugh</td>\n",
              "      <td>NaN</td>\n",
              "      <td>https://politifact.com/factchecks/2020/jun/04/...</td>\n",
              "    </tr>\n",
              "    <tr>\n",
              "      <th>4</th>\n",
              "      <td>4</td>\n",
              "      <td>“According to the CDC, so far this year, Flori...</td>\n",
              "      <td>false</td>\n",
              "      <td>false</td>\n",
              "      <td>Politifact</td>\n",
              "      <td>2020-05-27</td>\n",
              "      <td>Facebook posts</td>\n",
              "      <td>NaN</td>\n",
              "      <td>https://politifact.com/factchecks/2020/jun/03/...</td>\n",
              "    </tr>\n",
              "    <tr>\n",
              "      <th>5</th>\n",
              "      <td>5</td>\n",
              "      <td>Says Nancy Pelosi tried “once again” to includ...</td>\n",
              "      <td>false</td>\n",
              "      <td>barely-true</td>\n",
              "      <td>Politifact</td>\n",
              "      <td>2020-05-13</td>\n",
              "      <td>Bloggers</td>\n",
              "      <td>NaN</td>\n",
              "      <td>https://politifact.com/factchecks/2020/jun/02/...</td>\n",
              "    </tr>\n",
              "    <tr>\n",
              "      <th>6</th>\n",
              "      <td>6</td>\n",
              "      <td>“The new Dane County lockdown policy… (has) ef...</td>\n",
              "      <td>false</td>\n",
              "      <td>barely-true</td>\n",
              "      <td>Politifact</td>\n",
              "      <td>2020-05-19</td>\n",
              "      <td>Scott Manley</td>\n",
              "      <td>NaN</td>\n",
              "      <td>https://politifact.com/factchecks/2020/jun/02/...</td>\n",
              "    </tr>\n",
              "    <tr>\n",
              "      <th>7</th>\n",
              "      <td>7</td>\n",
              "      <td>“Two-thirds of Americans disapprove of Donald ...</td>\n",
              "      <td>true</td>\n",
              "      <td>true</td>\n",
              "      <td>Politifact</td>\n",
              "      <td>2020-05-27</td>\n",
              "      <td>Darren Jackson</td>\n",
              "      <td>NaN</td>\n",
              "      <td>https://politifact.com/factchecks/2020/jun/01/...</td>\n",
              "    </tr>\n",
              "    <tr>\n",
              "      <th>8</th>\n",
              "      <td>8</td>\n",
              "      <td>Says President Donald Trump “took more than a ...</td>\n",
              "      <td>partly false</td>\n",
              "      <td>mostly-true</td>\n",
              "      <td>Politifact</td>\n",
              "      <td>2020-05-21</td>\n",
              "      <td>Joe Biden</td>\n",
              "      <td>NaN</td>\n",
              "      <td>https://politifact.com/factchecks/2020/jun/01/...</td>\n",
              "    </tr>\n",
              "    <tr>\n",
              "      <th>9</th>\n",
              "      <td>9</td>\n",
              "      <td>“With retail, people are moving around and you...</td>\n",
              "      <td>partly false</td>\n",
              "      <td>mostly-true</td>\n",
              "      <td>Politifact</td>\n",
              "      <td>2020-05-12</td>\n",
              "      <td>Roy Cooper</td>\n",
              "      <td>NaN</td>\n",
              "      <td>https://politifact.com/factchecks/2020/jun/01/...</td>\n",
              "    </tr>\n",
              "    <tr>\n",
              "      <th>10</th>\n",
              "      <td>10</td>\n",
              "      <td>\"The Trump Administration is trying to take fo...</td>\n",
              "      <td>not enough evidence</td>\n",
              "      <td>half-true</td>\n",
              "      <td>Politifact</td>\n",
              "      <td>2020-05-15</td>\n",
              "      <td>Tammy Baldwin</td>\n",
              "      <td>NaN</td>\n",
              "      <td>https://politifact.com/factchecks/2020/jun/01/...</td>\n",
              "    </tr>\n",
              "    <tr>\n",
              "      <th>11</th>\n",
              "      <td>11</td>\n",
              "      <td>“For the World Health Organization, the intern...</td>\n",
              "      <td>false</td>\n",
              "      <td>barely-true</td>\n",
              "      <td>Politifact</td>\n",
              "      <td>2020-05-05</td>\n",
              "      <td>Brian Fitzpatrick</td>\n",
              "      <td>NaN</td>\n",
              "      <td>https://politifact.com/factchecks/2020/may/30/...</td>\n",
              "    </tr>\n",
              "    <tr>\n",
              "      <th>12</th>\n",
              "      <td>12</td>\n",
              "      <td>Says researchers found a “fabric that kills co...</td>\n",
              "      <td>partly false</td>\n",
              "      <td>mostly-true</td>\n",
              "      <td>Politifact</td>\n",
              "      <td>2020-05-21</td>\n",
              "      <td>Facebook posts</td>\n",
              "      <td>NaN</td>\n",
              "      <td>https://politifact.com/factchecks/2020/may/30/...</td>\n",
              "    </tr>\n",
              "    <tr>\n",
              "      <th>13</th>\n",
              "      <td>13</td>\n",
              "      <td>Michigan governor reopened Traverse City “so s...</td>\n",
              "      <td>false</td>\n",
              "      <td>false</td>\n",
              "      <td>Politifact</td>\n",
              "      <td>2020-05-20</td>\n",
              "      <td>Facebook posts</td>\n",
              "      <td>NaN</td>\n",
              "      <td>https://politifact.com/factchecks/2020/may/29/...</td>\n",
              "    </tr>\n",
              "    <tr>\n",
              "      <th>14</th>\n",
              "      <td>14</td>\n",
              "      <td>Says Ohio Gov. Mike DeWine released 4,300 pris...</td>\n",
              "      <td>false</td>\n",
              "      <td>false</td>\n",
              "      <td>Politifact</td>\n",
              "      <td>2020-05-16</td>\n",
              "      <td>Facebook posts</td>\n",
              "      <td>NaN</td>\n",
              "      <td>https://politifact.com/factchecks/2020/may/29/...</td>\n",
              "    </tr>\n",
              "    <tr>\n",
              "      <th>15</th>\n",
              "      <td>15</td>\n",
              "      <td>Says President Donald Trump is trying to make ...</td>\n",
              "      <td>false</td>\n",
              "      <td>barely-true</td>\n",
              "      <td>Politifact</td>\n",
              "      <td>2020-05-19</td>\n",
              "      <td>Priorities USA Action</td>\n",
              "      <td>NaN</td>\n",
              "      <td>https://politifact.com/factchecks/2020/may/29/...</td>\n",
              "    </tr>\n",
              "    <tr>\n",
              "      <th>16</th>\n",
              "      <td>16</td>\n",
              "      <td>“We’re down near the low end of per capita dea...</td>\n",
              "      <td>false</td>\n",
              "      <td>barely-true</td>\n",
              "      <td>Politifact</td>\n",
              "      <td>2020-05-27</td>\n",
              "      <td>Joe Kernen</td>\n",
              "      <td>NaN</td>\n",
              "      <td>https://politifact.com/factchecks/2020/may/28/...</td>\n",
              "    </tr>\n",
              "    <tr>\n",
              "      <th>17</th>\n",
              "      <td>17</td>\n",
              "      <td>“This is what Bill Gates and George Soros want...</td>\n",
              "      <td>false</td>\n",
              "      <td>false</td>\n",
              "      <td>Politifact</td>\n",
              "      <td>2020-05-10</td>\n",
              "      <td>Facebook posts</td>\n",
              "      <td>NaN</td>\n",
              "      <td>https://politifact.com/factchecks/2020/may/28/...</td>\n",
              "    </tr>\n",
              "    <tr>\n",
              "      <th>18</th>\n",
              "      <td>18</td>\n",
              "      <td>Says the state “health secretary says don't go...</td>\n",
              "      <td>false</td>\n",
              "      <td>barely-true</td>\n",
              "      <td>Politifact</td>\n",
              "      <td>2020-05-26</td>\n",
              "      <td>Tom Tiffany\\n</td>\n",
              "      <td>NaN</td>\n",
              "      <td>https://politifact.com/factchecks/2020/may/28/...</td>\n",
              "    </tr>\n",
              "    <tr>\n",
              "      <th>19</th>\n",
              "      <td>19</td>\n",
              "      <td>Italy “went against the WHO's ‘law’” against C...</td>\n",
              "      <td>false</td>\n",
              "      <td>false</td>\n",
              "      <td>Politifact</td>\n",
              "      <td>2020-05-26</td>\n",
              "      <td>Facebook posts</td>\n",
              "      <td>NaN</td>\n",
              "      <td>https://politifact.com/factchecks/2020/may/28/...</td>\n",
              "    </tr>\n",
              "  </tbody>\n",
              "</table>\n",
              "</div>"
            ],
            "text/plain": [
              "    RecordNumber  ...                                     fact_check_url\n",
              "0              0  ...  https://politifact.com/factchecks/2020/jun/09/...\n",
              "1              1  ...  https://politifact.com/factchecks/2020/jun/08/...\n",
              "2              2  ...  https://politifact.com/factchecks/2020/jun/05/...\n",
              "3              3  ...  https://politifact.com/factchecks/2020/jun/04/...\n",
              "4              4  ...  https://politifact.com/factchecks/2020/jun/03/...\n",
              "5              5  ...  https://politifact.com/factchecks/2020/jun/02/...\n",
              "6              6  ...  https://politifact.com/factchecks/2020/jun/02/...\n",
              "7              7  ...  https://politifact.com/factchecks/2020/jun/01/...\n",
              "8              8  ...  https://politifact.com/factchecks/2020/jun/01/...\n",
              "9              9  ...  https://politifact.com/factchecks/2020/jun/01/...\n",
              "10            10  ...  https://politifact.com/factchecks/2020/jun/01/...\n",
              "11            11  ...  https://politifact.com/factchecks/2020/may/30/...\n",
              "12            12  ...  https://politifact.com/factchecks/2020/may/30/...\n",
              "13            13  ...  https://politifact.com/factchecks/2020/may/29/...\n",
              "14            14  ...  https://politifact.com/factchecks/2020/may/29/...\n",
              "15            15  ...  https://politifact.com/factchecks/2020/may/29/...\n",
              "16            16  ...  https://politifact.com/factchecks/2020/may/28/...\n",
              "17            17  ...  https://politifact.com/factchecks/2020/may/28/...\n",
              "18            18  ...  https://politifact.com/factchecks/2020/may/28/...\n",
              "19            19  ...  https://politifact.com/factchecks/2020/may/28/...\n",
              "\n",
              "[20 rows x 9 columns]"
            ]
          },
          "metadata": {
            "tags": []
          },
          "execution_count": 5
        }
      ]
    },
    {
      "cell_type": "code",
      "metadata": {
        "id": "FV5NzPm8_Jhz",
        "colab_type": "code",
        "colab": {}
      },
      "source": [
        "df = df.dropna(subset=['claim', 'label'])"
      ],
      "execution_count": 0,
      "outputs": []
    },
    {
      "cell_type": "code",
      "metadata": {
        "id": "dEFFy16zC0or",
        "colab_type": "code",
        "colab": {}
      },
      "source": [
        "valid_labels = ['false', 'true', 'partly false', 'not enough evidence', 'partly true']\n",
        "df = df[df['label'].isin(valid_labels)]"
      ],
      "execution_count": 0,
      "outputs": []
    },
    {
      "cell_type": "code",
      "metadata": {
        "id": "DOERMjlQCe3m",
        "colab_type": "code",
        "colab": {
          "base_uri": "https://localhost:8080/",
          "height": 312
        },
        "outputId": "f89523d6-39a7-4860-f179-36cdd6574e74"
      },
      "source": [
        "plt.hist(df['label'])\n",
        "plt.title('Label Distribution')\n",
        "plt.xlabel('Label Type')\n",
        "plt.ylabel('# of Occurances')"
      ],
      "execution_count": 8,
      "outputs": [
        {
          "output_type": "execute_result",
          "data": {
            "text/plain": [
              "Text(0, 0.5, '# of Occurances')"
            ]
          },
          "metadata": {
            "tags": []
          },
          "execution_count": 8
        },
        {
          "output_type": "display_data",
          "data": {
            "image/png": "[encoded data removed]",
            "text/plain": [
              "<Figure size 432x288 with 1 Axes>"
            ]
          },
          "metadata": {
            "tags": [],
            "needs_background": "light"
          }
        }
      ]
    },
    {
      "cell_type": "code",
      "metadata": {
        "id": "7PcefFIw7xFZ",
        "colab_type": "code",
        "colab": {}
      },
      "source": [
        "\n"
      ],
      "execution_count": 0,
      "outputs": []
    },
    {
      "cell_type": "code",
      "metadata": {
        "id": "KlnjAhkl8Jin",
        "colab_type": "code",
        "colab": {}
      },
      "source": [
        ""
      ],
      "execution_count": 0,
      "outputs": []
    },
    {
      "cell_type": "code",
      "metadata": {
        "id": "VQlcTBOuFKBZ",
        "colab_type": "code",
        "colab": {}
      },
      "source": [
        "train, valid = train_test_split(df, test_size=0.75, random_state=0)\n",
        "train_x = train['claim']\n",
        "train_y = train['label']\n",
        "\n",
        "valid_x = valid['claim']\n",
        "valid_y = valid['label']\n",
        "\n",
        "\n",
        "vectorizer = CountVectorizer(strip_accents=\"ascii\", \n",
        "                             lowercase=True, \n",
        "                             stop_words=\"english\")"
      ],
      "execution_count": 0,
      "outputs": []
    },
    {
      "cell_type": "code",
      "metadata": {
        "id": "1jrGvrJaExXZ",
        "colab_type": "code",
        "colab": {}
      },
      "source": [
        "train_x_cv = vectorizer.fit_transform(train_x)\n",
        "valid_x_cv = vectorizer.transform(valid_x)"
      ],
      "execution_count": 0,
      "outputs": []
    },
    {
      "cell_type": "code",
      "metadata": {
        "id": "mioKpXcGtrQB",
        "colab_type": "code",
        "colab": {}
      },
      "source": [
        "naive_bayes = MultinomialNB()\n",
        "naive_bayes.fit(train_x_cv, train_y)\n",
        "predictions = naive_bayes.predict(valid_x_cv)"
      ],
      "execution_count": 0,
      "outputs": []
    },
    {
      "cell_type": "code",
      "metadata": {
        "id": "1XefBGXzGRhK",
        "colab_type": "code",
        "colab": {
          "base_uri": "https://localhost:8080/",
          "height": 122
        },
        "outputId": "325ced00-1d07-4f80-ebd5-8d4002ec9f68"
      },
      "source": [
        "print(\"Accuracy score: \", accuracy_score(valid_y, predictions))\n",
        "print(\"Precision score: \", precision_score(valid_y, predictions, average='macro'))\n",
        "print(\"Recall score: \", recall_score(valid_y, predictions, average='macro'))"
      ],
      "execution_count": 12,
      "outputs": [
        {
          "output_type": "stream",
          "text": [
            "Accuracy score:  0.9040960277193416\n",
            "Precision score:  0.36128519473543586\n",
            "Recall score:  0.3556305222484168\n"
          ],
          "name": "stdout"
        },
        {
          "output_type": "stream",
          "text": [
            "/usr/local/lib/python3.6/dist-packages/sklearn/metrics/_classification.py:1272: UndefinedMetricWarning: Precision is ill-defined and being set to 0.0 in labels with no predicted samples. Use `zero_division` parameter to control this behavior.\n",
            "  _warn_prf(average, modifier, msg_start, len(result))\n"
          ],
          "name": "stderr"
        }
      ]
    },
    {
      "cell_type": "code",
      "metadata": {
        "id": "FJZoKdLECDvt",
        "colab_type": "code",
        "colab": {}
      },
      "source": [
        "df.to_csv('claims.csv')"
      ],
      "execution_count": 0,
      "outputs": []
    }
  ]
}